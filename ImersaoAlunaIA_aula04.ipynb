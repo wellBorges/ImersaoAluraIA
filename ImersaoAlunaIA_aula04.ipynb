{
  "nbformat": 4,
  "nbformat_minor": 0,
  "metadata": {
    "colab": {
      "provenance": [],
      "gpuType": "T4",
      "authorship_tag": "ABX9TyPEoF16NjEI6QkyqtAinOpa",
      "include_colab_link": true
    },
    "kernelspec": {
      "name": "python3",
      "display_name": "Python 3"
    },
    "language_info": {
      "name": "python"
    },
    "accelerator": "GPU"
  },
  "cells": [
    {
      "cell_type": "markdown",
      "metadata": {
        "id": "view-in-github",
        "colab_type": "text"
      },
      "source": [
        "<a href=\"https://colab.research.google.com/github/wellBorges/ImersaoAluraIA/blob/main/ImersaoAlunaIA_aula04.ipynb\" target=\"_parent\"><img src=\"https://colab.research.google.com/assets/colab-badge.svg\" alt=\"Open In Colab\"/></a>"
      ]
    },
    {
      "cell_type": "markdown",
      "source": [
        "# **Projeto para criação de um Chatbot na Imersão Alura IA**"
      ],
      "metadata": {
        "id": "4lOKaXCjzDp9"
      }
    },
    {
      "cell_type": "markdown",
      "source": [
        "Instalando o SDK do Google"
      ],
      "metadata": {
        "id": "Y5NJF34YzSCJ"
      }
    },
    {
      "cell_type": "code",
      "source": [
        "!pip install -q -U google-generativeai"
      ],
      "metadata": {
        "id": "AhB_kn6gzRL4"
      },
      "execution_count": 2,
      "outputs": []
    },
    {
      "cell_type": "markdown",
      "source": [
        "Importando e cofigurando a biblioteca Generativeai"
      ],
      "metadata": {
        "id": "d930tLJhzRg_"
      }
    },
    {
      "cell_type": "code",
      "execution_count": 21,
      "metadata": {
        "id": "J_tIJU0Px-Jd"
      },
      "outputs": [],
      "source": [
        "# Import the Python SDK\n",
        "import google.generativeai as genai\n",
        "# Used to securely store your API key\n",
        "# o código abaixo é para pegar a APY da conta google utilizada\n",
        "from google.colab import userdata\n",
        "api_key = userdata.get('SECRET_KEY')\n",
        "genai.configure(api_key=api_key)\n",
        "#genai.confige=userdata.get('API_KEY')\n",
        "\n",
        "#GOOGLE_API_KEY='xxx'\n"
      ]
    },
    {
      "cell_type": "markdown",
      "source": [
        "Listando os modelos disponíveis"
      ],
      "metadata": {
        "id": "IYzwij38zt68"
      }
    },
    {
      "cell_type": "markdown",
      "source": [
        "models/gemini-1.0-pro -- versão mais estável\n",
        "\n",
        "models/gemini-1.0-pro-001\n",
        "\n",
        "models/gemini-1.0-pro-latest\n",
        "\n",
        "models/gemini-1.0-pro-vision-latest\n",
        "\n",
        "models/gemini-1.5-pro-latest\n",
        "\n",
        "models/gemini-pro\n",
        "\n",
        "models/gemini-pro-vision"
      ],
      "metadata": {
        "id": "fTFqjnTy3AdB"
      }
    },
    {
      "cell_type": "code",
      "source": [
        "for m in genai.list_models():\n",
        "  if 'generateContent' in m.supported_generation_methods:\n",
        "    print(m.name)"
      ],
      "metadata": {
        "colab": {
          "base_uri": "https://localhost:8080/",
          "height": 139
        },
        "id": "Xa6NbIhozwYd",
        "outputId": "eef2ac2a-ab76-4d19-a300-7041e6e33cdd"
      },
      "execution_count": 4,
      "outputs": [
        {
          "output_type": "stream",
          "name": "stdout",
          "text": [
            "models/gemini-1.0-pro\n",
            "models/gemini-1.0-pro-001\n",
            "models/gemini-1.0-pro-latest\n",
            "models/gemini-1.0-pro-vision-latest\n",
            "models/gemini-1.5-pro-latest\n",
            "models/gemini-pro\n",
            "models/gemini-pro-vision\n"
          ]
        }
      ]
    },
    {
      "cell_type": "code",
      "source": [
        "generation_config = {\n",
        "    \"candidate_count\": 1,\n",
        "    \"temperature\":0.5\n",
        "}"
      ],
      "metadata": {
        "id": "12anlKQO3qre"
      },
      "execution_count": 5,
      "outputs": []
    },
    {
      "cell_type": "code",
      "source": [
        "safety_setting ={\n",
        "    \"Harassment\": \"BLOCK_NONE\",\n",
        "    \"Hate\": \"BLOCK_NONE\",\n",
        "    \"Sexual\": \"BLOCK_NONE\",\n",
        "    \"Dangerous\": \"BLOCK_NONE\"\n",
        "}"
      ],
      "metadata": {
        "id": "TY8HYFcg4Yg2"
      },
      "execution_count": 6,
      "outputs": []
    },
    {
      "cell_type": "markdown",
      "source": [
        "Inicializando o modelo"
      ],
      "metadata": {
        "id": "ORRe2qxI64Rx"
      }
    },
    {
      "cell_type": "code",
      "source": [
        "model = genai.GenerativeModel (model_name=\"gemini-1.0-pro\"\n",
        "                               , generation_config=generation_config\n",
        "                               , safety_settings=safety_setting)"
      ],
      "metadata": {
        "id": "pYasOBle61Gl"
      },
      "execution_count": 7,
      "outputs": []
    },
    {
      "cell_type": "code",
      "source": [
        "response = model.generate_content(\"Projeto inicial da Imersão Alura IA para gerar um chatbot.\")\n",
        "print(response.text)"
      ],
      "metadata": {
        "colab": {
          "base_uri": "https://localhost:8080/",
          "height": 781
        },
        "id": "zfpqZwUz9Izj",
        "outputId": "c2fd7144-73d6-4d65-b411-acbfa7bd1cb9"
      },
      "execution_count": 8,
      "outputs": [
        {
          "output_type": "stream",
          "name": "stdout",
          "text": [
            "**Projeto Inicial: Chatbot**\n",
            "\n",
            "**Objetivo:** Criar um chatbot básico que responda a perguntas simples sobre um tópico específico.\n",
            "\n",
            "**Requisitos:**\n",
            "\n",
            "* **Linguagem de Programação:** Python\n",
            "* **Biblioteca de Processamento de Linguagem Natural (PNL):** NLTK\n",
            "* **Dados de Treinamento:** Um conjunto de perguntas e respostas sobre o tópico escolhido\n",
            "\n",
            "**Etapas:**\n",
            "\n",
            "**1. Coleta e Preparação de Dados:**\n",
            "\n",
            "* Colete um conjunto de perguntas e respostas sobre o tópico escolhido.\n",
            "* Pré-processe os dados removendo pontuação, convertendo para minúsculas e tokenizando as frases.\n",
            "\n",
            "**2. Treinamento do Modelo de PNL:**\n",
            "\n",
            "* Use a biblioteca NLTK para treinar um modelo de PNL que mapeie perguntas para respostas.\n",
            "* O modelo pode ser treinado usando algoritmos como Classificação de Vetores de Suporte (SVC) ou Regressão Logística.\n",
            "\n",
            "**3. Criação do Chatbot:**\n",
            "\n",
            "* Crie uma interface de usuário simples para o chatbot.\n",
            "* Integre o modelo de PNL treinado para gerar respostas às perguntas do usuário.\n",
            "\n",
            "**4. Avaliação e Melhoria:**\n",
            "\n",
            "* Avalie o desempenho do chatbot usando métricas como precisão e recall.\n",
            "* Identifique áreas de melhoria e ajuste o modelo ou os dados de treinamento conforme necessário.\n",
            "\n",
            "**Tópicos de Amostra:**\n",
            "\n",
            "* Informações sobre produtos\n",
            "* Suporte ao cliente\n",
            "* Perguntas frequentes\n",
            "* Informações meteorológicas\n",
            "\n",
            "**Recursos Adicionais:**\n",
            "\n",
            "* [NLTK](https://www.nltk.org/)\n",
            "* [Classificação de Vetores de Suporte (SVC)](https://scikit-learn.org/stable/modules/generated/sklearn.svm.SVC.html)\n",
            "* [Regressão Logística](https://scikit-learn.org/stable/modules/generated/sklearn.linear_model.LogisticRegression.html)\n"
          ]
        }
      ]
    },
    {
      "cell_type": "code",
      "source": [
        "chat = model.start_chat(history=[])"
      ],
      "metadata": {
        "id": "Y5iX0xJ_9aCA"
      },
      "execution_count": 9,
      "outputs": []
    },
    {
      "cell_type": "code",
      "source": [
        "prompt = input(\"esperando um prompt: \")\n",
        "\n",
        "while prompt != \"fim\":\n",
        "  response = chat.send_message(prompt)\n",
        "  print(\"resposta : \", response.text, \"\\n\")\n",
        "  prompt = input(\"esperando um prompt: \")\n"
      ],
      "metadata": {
        "id": "csWCbw-j9xwT"
      },
      "execution_count": null,
      "outputs": []
    },
    {
      "cell_type": "code",
      "source": [
        "chat.history"
      ],
      "metadata": {
        "id": "OQMzdbM0EdFN"
      },
      "execution_count": null,
      "outputs": []
    },
    {
      "cell_type": "code",
      "source": [
        "#melhorando a visualização\n",
        "#Importar pacotes\n",
        "#Importe os pacotes necessários.\n",
        "\n",
        "import textwrap\n",
        "from IPython.display import display\n",
        "from IPython.display import Markdown\n",
        "\n",
        "\n",
        "def to_markdown(text):\n",
        "  text = text.replace('•', '  *')\n",
        "  return Markdown(textwrap.indent(text, '> ', predicate=lambda _: True))14\n",
        "\n",
        "for message in chat.history:\n",
        "  display(to_markdown(f'**(message.role)**: {message.parts[0].text}'))\n",
        "  print ('---------------------------------------------------------')"
      ],
      "metadata": {
        "colab": {
          "base_uri": "https://localhost:8080/",
          "height": 1000
        },
        "id": "Vr7_0OdiEop2",
        "outputId": "4de17687-a528-4ad3-e3d9-0d1279efbd06"
      },
      "execution_count": 17,
      "outputs": [
        {
          "output_type": "display_data",
          "data": {
            "text/plain": [
              "<IPython.core.display.Markdown object>"
            ],
            "text/markdown": "> **(message.role)**: Qual é a capital de Minas Gerais"
          },
          "metadata": {}
        },
        {
          "output_type": "stream",
          "name": "stdout",
          "text": [
            "---------------------------------------------------------\n"
          ]
        },
        {
          "output_type": "display_data",
          "data": {
            "text/plain": [
              "<IPython.core.display.Markdown object>"
            ],
            "text/markdown": "> **(message.role)**: Belo Horizonte"
          },
          "metadata": {}
        },
        {
          "output_type": "stream",
          "name": "stdout",
          "text": [
            "---------------------------------------------------------\n"
          ]
        },
        {
          "output_type": "display_data",
          "data": {
            "text/plain": [
              "<IPython.core.display.Markdown object>"
            ],
            "text/markdown": "> **(message.role)**: Qual é a comida regional mais popular?"
          },
          "metadata": {}
        },
        {
          "output_type": "stream",
          "name": "stdout",
          "text": [
            "---------------------------------------------------------\n"
          ]
        },
        {
          "output_type": "display_data",
          "data": {
            "text/plain": [
              "<IPython.core.display.Markdown object>"
            ],
            "text/markdown": "> **(message.role)**: Feijão tropeiro\n> \n> É um prato típico da culinária mineira, feito com feijão cozido, farinha de mandioca, torresmo, ovos, linguiça e couve refogada. É um prato simples e saboroso, que pode ser servido como prato principal ou acompanhamento."
          },
          "metadata": {}
        },
        {
          "output_type": "stream",
          "name": "stdout",
          "text": [
            "---------------------------------------------------------\n"
          ]
        },
        {
          "output_type": "display_data",
          "data": {
            "text/plain": [
              "<IPython.core.display.Markdown object>"
            ],
            "text/markdown": "> **(message.role)**: como é feita a paella valenciana"
          },
          "metadata": {}
        },
        {
          "output_type": "stream",
          "name": "stdout",
          "text": [
            "---------------------------------------------------------\n"
          ]
        },
        {
          "output_type": "display_data",
          "data": {
            "text/plain": [
              "<IPython.core.display.Markdown object>"
            ],
            "text/markdown": "> **(message.role)**: **Ingredientes:**\n> \n> * 1 xícara de arroz bomba\n> * 2 xícaras de caldo de peixe\n> * 1/2 xícara de azeite de oliva\n> * 1 cebola picada\n> * 2 dentes de alho picados\n> * 1 pimentão vermelho picado\n> * 1 pimentão verde picado\n> * 1 tomate picado\n> * 1 colher de chá de páprica\n> * 1/2 colher de chá de açafrão\n> * Sal e pimenta a gosto\n> * Frutos do mar a gosto (mexilhões, camarões, lulas, etc.)\n> * 1/2 xícara de ervilhas\n> * 1/4 xícara de feijão verde cortado\n> \n> **Instruções:**\n> \n> 1. Em uma panela grande ou frigideira de paella, aqueça o azeite em fogo médio.\n> 2. Adicione a cebola, o alho, o pimentão vermelho, o pimentão verde e o tomate. Cozinhe até que os legumes estejam macios, cerca de 5 minutos.\n> 3. Adicione o arroz, a páprica, o açafrão, o sal e a pimenta. Mexa para combinar.\n> 4. Despeje o caldo de peixe e deixe ferver.\n> 5. Reduza o fogo para baixo, tampe e cozinhe por cerca de 15 minutos, ou até que o arroz esteja cozido e todo o líquido tenha sido absorvido.\n> 6. Adicione os frutos do mar, as ervilhas e o feijão verde. Cozinhe por mais 5-7 minutos, ou até que os frutos do mar estejam cozidos.\n> 7. Retire do fogo e deixe descansar por 5 minutos antes de servir.\n> \n> **Dicas:**\n> \n> * Para um sabor mais autêntico, use arroz bomba, um tipo de arroz de grão curto cultivado na Espanha.\n> * Se você não tiver caldo de peixe, pode usar água com cubos de caldo de peixe dissolvidos.\n> * Você pode adicionar outros vegetais à paella, como cenoura, aspargos ou abobrinha.\n> * Sirva a paella com rodelas de limão para espremer por cima."
          },
          "metadata": {}
        },
        {
          "output_type": "stream",
          "name": "stdout",
          "text": [
            "---------------------------------------------------------\n"
          ]
        },
        {
          "output_type": "display_data",
          "data": {
            "text/plain": [
              "<IPython.core.display.Markdown object>"
            ],
            "text/markdown": "> **(message.role)**: exite uma versão caipira?"
          },
          "metadata": {}
        },
        {
          "output_type": "stream",
          "name": "stdout",
          "text": [
            "---------------------------------------------------------\n"
          ]
        },
        {
          "output_type": "display_data",
          "data": {
            "text/plain": [
              "<IPython.core.display.Markdown object>"
            ],
            "text/markdown": "> **(message.role)**: Sim, existe uma versão caipira da paella, chamada \"paella caipira\" ou \"paella sertaneja\". Ela é originária do interior do Brasil, especialmente dos estados de São Paulo, Minas Gerais e Goiás.\n> \n> A paella caipira é semelhante à paella valenciana tradicional, mas com algumas adaptações para os ingredientes disponíveis na região. Por exemplo, em vez de frutos do mar, ela costuma usar carnes como frango, linguiça e bacon. Além disso, ela pode incluir outros ingredientes caipiras, como milho, quiabo e abóbora.\n> \n> Aqui está uma receita básica de paella caipira:\n> \n> **Ingredientes:**\n> \n> * 1 xícara de arroz branco\n> * 2 xícaras de caldo de galinha\n> * 1/2 xícara de azeite de oliva\n> * 1 cebola picada\n> * 2 dentes de alho picados\n> * 1 pimentão vermelho picado\n> * 1 pimentão verde picado\n> * 1 tomate picado\n> * 1 colher de chá de páprica\n> * 1/2 colher de chá de açafrão\n> * Sal e pimenta a gosto\n> * 500g de frango cortado em pedaços\n> * 200g de linguiça calabresa cortada em rodelas\n> * 100g de bacon picado\n> * 1 xícara de milho verde\n> * 1 xícara de quiabo cortado em rodelas\n> * 1/2 xícara de abóbora cortada em cubos\n> \n> **Instruções:**\n> \n> 1. Em uma panela grande ou frigideira, aqueça o azeite em fogo médio.\n> 2. Adicione a cebola, o alho, o pimentão vermelho, o pimentão verde e o tomate. Cozinhe até que os legumes estejam macios, cerca de 5 minutos.\n> 3. Adicione o arroz, a páprica, o açafrão, o sal e a pimenta. Mexa para combinar.\n> 4. Despeje o caldo de galinha e deixe ferver.\n> 5. Adicione o frango, a linguiça, o bacon, o milho, o quiabo e a abóbora.\n> 6. Reduza o fogo para baixo, tampe e cozinhe por cerca de 20 minutos, ou até que o arroz esteja cozido e todo o líquido tenha sido absorvido.\n> 7. Retire do fogo e deixe descansar por 5 minutos antes de servir.\n> \n> Sirva a paella caipira com rodelas de limão para espremer por cima."
          },
          "metadata": {}
        },
        {
          "output_type": "stream",
          "name": "stdout",
          "text": [
            "---------------------------------------------------------\n"
          ]
        },
        {
          "output_type": "display_data",
          "data": {
            "text/plain": [
              "<IPython.core.display.Markdown object>"
            ],
            "text/markdown": "> **(message.role)**: quando o Brasil foi descoberto"
          },
          "metadata": {}
        },
        {
          "output_type": "stream",
          "name": "stdout",
          "text": [
            "---------------------------------------------------------\n"
          ]
        },
        {
          "output_type": "display_data",
          "data": {
            "text/plain": [
              "<IPython.core.display.Markdown object>"
            ],
            "text/markdown": "> **(message.role)**: 22 de abril de 1500"
          },
          "metadata": {}
        },
        {
          "output_type": "stream",
          "name": "stdout",
          "text": [
            "---------------------------------------------------------\n"
          ]
        },
        {
          "output_type": "display_data",
          "data": {
            "text/plain": [
              "<IPython.core.display.Markdown object>"
            ],
            "text/markdown": "> **(message.role)**: e quando foi sua independência"
          },
          "metadata": {}
        },
        {
          "output_type": "stream",
          "name": "stdout",
          "text": [
            "---------------------------------------------------------\n"
          ]
        },
        {
          "output_type": "display_data",
          "data": {
            "text/plain": [
              "<IPython.core.display.Markdown object>"
            ],
            "text/markdown": "> **(message.role)**: 7 de setembro de 1822"
          },
          "metadata": {}
        },
        {
          "output_type": "stream",
          "name": "stdout",
          "text": [
            "---------------------------------------------------------\n"
          ]
        },
        {
          "output_type": "display_data",
          "data": {
            "text/plain": [
              "<IPython.core.display.Markdown object>"
            ],
            "text/markdown": "> **(message.role)**: e qual foi o seu primeiro presidente em qual ano?"
          },
          "metadata": {}
        },
        {
          "output_type": "stream",
          "name": "stdout",
          "text": [
            "---------------------------------------------------------\n"
          ]
        },
        {
          "output_type": "display_data",
          "data": {
            "text/plain": [
              "<IPython.core.display.Markdown object>"
            ],
            "text/markdown": "> **(message.role)**: **Pedro I**\n> \n> **Ano:** 1822"
          },
          "metadata": {}
        },
        {
          "output_type": "stream",
          "name": "stdout",
          "text": [
            "---------------------------------------------------------\n"
          ]
        },
        {
          "output_type": "display_data",
          "data": {
            "text/plain": [
              "<IPython.core.display.Markdown object>"
            ],
            "text/markdown": "> **(message.role)**: e o 7º presidente"
          },
          "metadata": {}
        },
        {
          "output_type": "stream",
          "name": "stdout",
          "text": [
            "---------------------------------------------------------\n"
          ]
        },
        {
          "output_type": "display_data",
          "data": {
            "text/plain": [
              "<IPython.core.display.Markdown object>"
            ],
            "text/markdown": "> **(message.role)**: **Eusébio de Queirós**\n> \n> **Ano:** 1889-1891"
          },
          "metadata": {}
        },
        {
          "output_type": "stream",
          "name": "stdout",
          "text": [
            "---------------------------------------------------------\n"
          ]
        },
        {
          "output_type": "display_data",
          "data": {
            "text/plain": [
              "<IPython.core.display.Markdown object>"
            ],
            "text/markdown": "> **(message.role)**: e quando morreu Tancredo Neves?"
          },
          "metadata": {}
        },
        {
          "output_type": "stream",
          "name": "stdout",
          "text": [
            "---------------------------------------------------------\n"
          ]
        },
        {
          "output_type": "display_data",
          "data": {
            "text/plain": [
              "<IPython.core.display.Markdown object>"
            ],
            "text/markdown": "> **(message.role)**: 21 de abril de 1985"
          },
          "metadata": {}
        },
        {
          "output_type": "stream",
          "name": "stdout",
          "text": [
            "---------------------------------------------------------\n"
          ]
        },
        {
          "output_type": "display_data",
          "data": {
            "text/plain": [
              "<IPython.core.display.Markdown object>"
            ],
            "text/markdown": "> **(message.role)**: qual foi o papel político de Tancredo Neves"
          },
          "metadata": {}
        },
        {
          "output_type": "stream",
          "name": "stdout",
          "text": [
            "---------------------------------------------------------\n"
          ]
        },
        {
          "output_type": "display_data",
          "data": {
            "text/plain": [
              "<IPython.core.display.Markdown object>"
            ],
            "text/markdown": "> **(message.role)**: Tancredo Neves foi um político brasileiro que desempenhou um papel fundamental na redemocratização do país após o regime militar. Ele foi eleito presidente da República em 1985, mas não chegou a tomar posse devido a uma doença grave que o levou à morte.\n> \n> **Principais aspectos do papel político de Tancredo Neves:**\n> \n> * **Liderança da oposição ao regime militar:** Tancredo foi um dos principais líderes da oposição ao regime militar que governou o Brasil de 1964 a 1985. Ele participou da fundação do Movimento Democrático Brasileiro (MDB), o principal partido de oposição, e foi eleito senador por Minas Gerais em 1978.\n> * **Campanha pelas \"Diretas Já\":** Tancredo foi um dos principais articuladores da campanha pelas \"Diretas Já\", que exigia eleições diretas para presidente. A campanha foi vitoriosa e levou à realização das primeiras eleições diretas para presidente desde 1960.\n> * **Eleição à presidência:** Em 1985, Tancredo foi eleito presidente da República pela Aliança Democrática, uma coligação de partidos de oposição. Sua eleição representou o fim do regime militar e o início de um novo período democrático no Brasil.\n> * **Morte antes da posse:** Tancredo foi internado no Hospital de Base de Brasília no dia 14 de março de 1985, um dia antes de sua posse como presidente. Ele sofreu uma cirurgia de emergência para tratar uma diverticulite, mas seu estado de saúde se agravou e ele faleceu em 21 de abril de 1985.\n> \n> A morte de Tancredo Neves antes de sua posse foi um duro golpe para a democracia brasileira. No entanto, seu legado como um dos principais líderes da redemocratização do país permanece vivo até hoje."
          },
          "metadata": {}
        },
        {
          "output_type": "stream",
          "name": "stdout",
          "text": [
            "---------------------------------------------------------\n"
          ]
        },
        {
          "output_type": "display_data",
          "data": {
            "text/plain": [
              "<IPython.core.display.Markdown object>"
            ],
            "text/markdown": "> **(message.role)**: qual é a capital de minas gerais"
          },
          "metadata": {}
        },
        {
          "output_type": "stream",
          "name": "stdout",
          "text": [
            "---------------------------------------------------------\n"
          ]
        },
        {
          "output_type": "display_data",
          "data": {
            "text/plain": [
              "<IPython.core.display.Markdown object>"
            ],
            "text/markdown": "> **(message.role)**: Belo Horizonte"
          },
          "metadata": {}
        },
        {
          "output_type": "stream",
          "name": "stdout",
          "text": [
            "---------------------------------------------------------\n"
          ]
        },
        {
          "output_type": "display_data",
          "data": {
            "text/plain": [
              "<IPython.core.display.Markdown object>"
            ],
            "text/markdown": "> **(message.role)**: e qual é a comida típica dessa capital"
          },
          "metadata": {}
        },
        {
          "output_type": "stream",
          "name": "stdout",
          "text": [
            "---------------------------------------------------------\n"
          ]
        },
        {
          "output_type": "display_data",
          "data": {
            "text/plain": [
              "<IPython.core.display.Markdown object>"
            ],
            "text/markdown": "> **(message.role)**: **Feijão tropeiro**\n> \n> É um prato típico da culinária mineira, feito com feijão cozido, farinha de mandioca, torresmo, ovos, linguiça e couve refogada. É um prato simples e saboroso, que pode ser servido como prato principal ou acompanhamento."
          },
          "metadata": {}
        },
        {
          "output_type": "stream",
          "name": "stdout",
          "text": [
            "---------------------------------------------------------\n"
          ]
        },
        {
          "output_type": "display_data",
          "data": {
            "text/plain": [
              "<IPython.core.display.Markdown object>"
            ],
            "text/markdown": "> **(message.role)**: qual é a receita da paella valenciana"
          },
          "metadata": {}
        },
        {
          "output_type": "stream",
          "name": "stdout",
          "text": [
            "---------------------------------------------------------\n"
          ]
        },
        {
          "output_type": "display_data",
          "data": {
            "text/plain": [
              "<IPython.core.display.Markdown object>"
            ],
            "text/markdown": "> **(message.role)**: **Ingredientes:**\n> \n> * 1 xícara de arroz bomba\n> * 2 xícaras de caldo de peixe\n> * 1/2 xícara de azeite de oliva\n> * 1 cebola picada\n> * 2 dentes de alho picados\n> * 1 pimentão vermelho picado\n> * 1 pimentão verde picado\n> * 1 tomate picado\n> * 1 colher de chá de páprica\n> * 1/2 colher de chá de açafrão\n> * Sal e pimenta a gosto\n> * Frutos do mar a gosto (mexilhões, camarões, lulas, etc.)\n> * 1/2 xícara de ervilhas\n> * 1/4 xícara de feijão verde cortado\n> \n> **Instruções:**\n> \n> 1. Em uma panela grande ou frigideira de paella, aqueça o azeite em fogo médio.\n> 2. Adicione a cebola, o alho, o pimentão vermelho, o pimentão verde e o tomate. Cozinhe até que os legumes estejam macios, cerca de 5 minutos.\n> 3. Adicione o arroz, a páprica, o açafrão, o sal e a pimenta. Mexa para combinar.\n> 4. Despeje o caldo de peixe e deixe ferver.\n> 5. Reduza o fogo para baixo, tampe e cozinhe por cerca de 15 minutos, ou até que o arroz esteja cozido e todo o líquido tenha sido absorvido.\n> 6. Adicione os frutos do mar, as ervilhas e o feijão verde. Cozinhe por mais 5-7 minutos, ou até que os frutos do mar estejam cozidos.\n> 7. Retire do fogo e deixe descansar por 5 minutos antes de servir.\n> \n> **Dicas:**\n> \n> * Para um sabor mais autêntico, use arroz bomba, um tipo de arroz de grão curto cultivado na Espanha.\n> * Se você não tiver caldo de peixe, pode usar água com cubos de caldo de peixe dissolvidos.\n> * Você pode adicionar outros vegetais à paella, como cenoura, aspargos ou abobrinha.\n> * Sirva a paella com rodelas de limão para espremer por cima."
          },
          "metadata": {}
        },
        {
          "output_type": "stream",
          "name": "stdout",
          "text": [
            "---------------------------------------------------------\n"
          ]
        },
        {
          "output_type": "display_data",
          "data": {
            "text/plain": [
              "<IPython.core.display.Markdown object>"
            ],
            "text/markdown": "> **(message.role)**: e tem uma versão capiira?"
          },
          "metadata": {}
        },
        {
          "output_type": "stream",
          "name": "stdout",
          "text": [
            "---------------------------------------------------------\n"
          ]
        },
        {
          "output_type": "display_data",
          "data": {
            "text/plain": [
              "<IPython.core.display.Markdown object>"
            ],
            "text/markdown": "> **(message.role)**: Sim, existe uma versão caipira da paella, chamada \"paella caipira\" ou \"paella sertaneja\". Ela é originária do interior do Brasil, especialmente dos estados de São Paulo, Minas Gerais e Goiás.\n> \n> A paella caipira é semelhante à paella valenciana tradicional, mas com algumas adaptações para os ingredientes disponíveis na região. Por exemplo, em vez de frutos do mar, ela costuma usar carnes como frango, linguiça e bacon. Além disso, ela pode incluir outros ingredientes caipiras, como milho, quiabo e abóbora.\n> \n> Aqui está uma receita básica de paella caipira:\n> \n> **Ingredientes:**\n> \n> * 1 xícara de arroz branco\n> * 2 xícaras de caldo de galinha\n> * 1/2 xícara de azeite de oliva\n> * 1 cebola picada\n> * 2 dentes de alho picados\n> * 1 pimentão vermelho picado\n> * 1 pimentão verde picado\n> * 1 tomate picado\n> * 1 colher de chá de páprica\n> * 1/2 colher de chá de açafrão\n> * Sal e pimenta a gosto\n> * 500g de frango cortado em pedaços\n> * 200g de linguiça calabresa cortada em rodelas\n> * 100g de bacon picado\n> * 1 xícara de milho verde\n> * 1 xícara de quiabo cortado em rodelas\n> * 1/2 xícara de abóbora cortada em cubos\n> \n> **Instruções:**\n> \n> 1. Em uma panela grande ou frigideira, aqueça o azeite em fogo médio.\n> 2. Adicione a cebola, o alho, o pimentão vermelho, o pimentão verde e o tomate. Cozinhe até que os legumes estejam macios, cerca de 5 minutos.\n> 3. Adicione o arroz, a páprica, o açafrão, o sal e a pimenta. Mexa para combinar.\n> 4. Despeje o caldo de galinha e deixe ferver.\n> 5. Adicione o frango, a linguiça, o bacon, o milho, o quiabo e a abóbora.\n> 6. Reduza o fogo para baixo, tampe e cozinhe por cerca de 20 minutos, ou até que o arroz esteja cozido e todo o líquido tenha sido absorvido.\n> 7. Retire do fogo e deixe descansar por 5 minutos antes de servir.\n> \n> Sirva a paella caipira com rodelas de limão para espremer por cima."
          },
          "metadata": {}
        },
        {
          "output_type": "stream",
          "name": "stdout",
          "text": [
            "---------------------------------------------------------\n"
          ]
        },
        {
          "output_type": "display_data",
          "data": {
            "text/plain": [
              "<IPython.core.display.Markdown object>"
            ],
            "text/markdown": "> **(message.role)**: quais itens compoe um kit pegue e monte para decoração de festas?"
          },
          "metadata": {}
        },
        {
          "output_type": "stream",
          "name": "stdout",
          "text": [
            "---------------------------------------------------------\n"
          ]
        },
        {
          "output_type": "display_data",
          "data": {
            "text/plain": [
              "<IPython.core.display.Markdown object>"
            ],
            "text/markdown": "> **(message.role)**: **Itens comuns em um kit pegue e monte para decoração de festas:**\n> \n> * **Balões:** Balões de látex, balões de foil e balões personalizados\n> * **Fitas e cordões:** Para amarrar e pendurar balões e outros itens\n> * **Confetes:** Confetes de papel, plástico ou metal\n> * **Guirlandas:** Guirlandas de papel, tecido ou plástico\n> * **Bandeirolas:** Bandeirolas de papel, tecido ou plástico\n> * **Pompons:** Pompons de papel ou tecido\n> * **Lanternas de papel:** Lanternas de papel de vários formatos e cores\n> * **Adesivos:** Adesivos temáticos para decorar paredes, mesas e outros itens\n> * **Toalhas de mesa e guardanapos:** Toalhas de mesa e guardanapos com temas ou cores festivas\n> * **Velas:** Velas decorativas para criar um ambiente aconchegante\n> * **Luzes de fada:** Luzes de fada para iluminar a festa\n> * **Suportes para balões:** Suportes para manter os balões no lugar\n> * **Tesoura e fita adesiva:** Para montagem e fixação dos itens\n> \n> **Itens adicionais que podem ser incluídos:**\n> \n> * **Centro de mesa:** Arranjos de flores, velas ou outros itens para decorar as mesas\n> * **Painel de fotos:** Um painel para os convidados tirarem fotos e guardarem como lembrança\n> * **Livro de visitas:** Um livro para os convidados deixarem mensagens e assinaturas\n> * **Lembrancinhas:** Pequenos presentes para os convidados levarem para casa como lembrança da festa"
          },
          "metadata": {}
        },
        {
          "output_type": "stream",
          "name": "stdout",
          "text": [
            "---------------------------------------------------------\n"
          ]
        },
        {
          "output_type": "display_data",
          "data": {
            "text/plain": [
              "<IPython.core.display.Markdown object>"
            ],
            "text/markdown": "> **(message.role)**: quais itens de decoração pode ser utilizado em uma festa infantil no tema bolofofo"
          },
          "metadata": {}
        },
        {
          "output_type": "stream",
          "name": "stdout",
          "text": [
            "---------------------------------------------------------\n"
          ]
        },
        {
          "output_type": "display_data",
          "data": {
            "text/plain": [
              "<IPython.core.display.Markdown object>"
            ],
            "text/markdown": "> **(message.role)**: **Itens de decoração para uma festa infantil no tema Bolo Fofo:**\n> \n> * **Balões:** Balões de látex ou foil em tons pastéis, como rosa, azul, amarelo e verde\n> * **Guirlandas:** Guirlandas de papel ou tecido com estampas de animais fofos, como coelhinhos, gatinhos e ursinhos\n> * **Bandeirolas:** Bandeirolas de papel ou tecido com mensagens como \"Bolofofo\" ou \"Festa Fofa\"\n> * **Pompons:** Pompons de papel ou tecido em tons pastéis ou com estampas de animais fofos\n> * **Lanternas de papel:** Lanternas de papel em formato de animais fofos ou com estampas de nuvens e arco-íris\n> * **Adesivos:** Adesivos de parede com imagens de animais fofos, corações e estrelas\n> * **Toalhas de mesa e guardanapos:** Toalhas de mesa e guardanapos em tons pastéis ou com estampas de animais fofos\n> * **Velas:** Velas decorativas em formato de animais fofos ou com estampas de nuvens e arco-íris\n> * **Luzes de fada:** Luzes de fada em tons pastéis ou com formato de estrelas para criar um ambiente mágico\n> * **Suportes para balões:** Suportes para manter os balões no lugar, como pesos de balão ou arcos de balão\n> * **Centro de mesa:** Arranjos de flores em tons pastéis ou com flores artificiais em formato de animais fofos\n> * **Painel de fotos:** Um painel com uma moldura fofa ou com uma estampa de animais fofos para os convidados tirarem fotos\n> * **Livro de visitas:** Um livro para os convidados deixarem mensagens e assinaturas, decorado com uma capa fofa\n> * **Lembrancinhas:** Pequenos presentes para os convidados levarem para casa como lembrança da festa, como bichinhos de pelúcia, chaveiros com animais fofos ou caixinhas de guloseimas decoradas com o tema"
          },
          "metadata": {}
        },
        {
          "output_type": "stream",
          "name": "stdout",
          "text": [
            "---------------------------------------------------------\n"
          ]
        }
      ]
    },
    {
      "cell_type": "code",
      "source": [],
      "metadata": {
        "id": "6GCEk4oVFkiV"
      },
      "execution_count": null,
      "outputs": []
    }
  ]
}